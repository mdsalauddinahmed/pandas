{
 "cells": [
  {
   "cell_type": "code",
   "execution_count": 1,
   "id": "2b70216a-894a-4c79-a74e-ae0d16f1b9a6",
   "metadata": {},
   "outputs": [
    {
     "name": "stdout",
     "output_type": "stream",
     "text": [
      "   a  s\n",
      "a  1  1\n",
      "s  2  2\n",
      "d  3  3\n",
      "f  4  4\n",
      "c  5  5\n"
     ]
    }
   ],
   "source": [
    "import pandas as pd\n",
    "d={\"a\":[1,2,3,44,5],\"s\":[1,2,3,4,5]}\n",
    "var =pd.DataFrame(d,columns=[\"a\",\"s\"],index=[\"a\",\"s\",\"d\",\"f\",\"c\"])\n",
    "print(var)"
   ]
  },
  {
   "cell_type": "code",
   "execution_count": 3,
   "id": "5eea5df8-b8c0-495b-87b4-295fc2c9d116",
   "metadata": {},
   "outputs": [
    {
     "name": "stdout",
     "output_type": "stream",
     "text": [
      "44\n"
     ]
    },
    {
     "name": "stderr",
     "output_type": "stream",
     "text": [
      "C:\\Users\\Amir\\AppData\\Local\\Temp\\ipykernel_27244\\4264055161.py:3: FutureWarning: Series.__getitem__ treating keys as positions is deprecated. In a future version, integer keys will always be treated as labels (consistent with DataFrame behavior). To access a value by position, use `ser.iloc[pos]`\n",
      "  print(var[\"a\"][3])\n"
     ]
    }
   ],
   "source": [
    "d={\"a\":[1,2,3,44,5],\"s\":[1,2,3,4,5]}\n",
    "var =pd.DataFrame(d,columns=[\"a\",\"s\"],index=[\"a\",\"s\",\"d\",\"f\",\"c\"])\n",
    "print(var[\"a\"][3])"
   ]
  },
  {
   "cell_type": "code",
   "execution_count": 5,
   "id": "a8489c23-a125-4723-82f9-6097dac79180",
   "metadata": {},
   "outputs": [
    {
     "name": "stdout",
     "output_type": "stream",
     "text": [
      "    0   1   2   3   4   5\n",
      "0   1   2   3   4   5   6\n",
      "1  11  12  13  14  15  16\n",
      "<class 'pandas.core.frame.DataFrame'>\n"
     ]
    }
   ],
   "source": [
    "list_1=[[1,2,3,4,5,6],[11,12,13,14,15,16]]\n",
    "var2= pd.DataFrame(list_1)\n",
    "print(var2)\n",
    "print(type(var2))"
   ]
  },
  {
   "cell_type": "code",
   "execution_count": 6,
   "id": "d407becc-443a-4d9e-a9b8-e5edbec1b8f0",
   "metadata": {},
   "outputs": [
    {
     "name": "stdout",
     "output_type": "stream",
     "text": [
      "   s  r\n",
      "0  1  1\n",
      "1  2  2\n",
      "2  3  3\n",
      "3  4  4\n"
     ]
    }
   ],
   "source": [
    "sr= {\"s\":pd.Series([1,2,3,4]),\"r\":pd.Series([1,2,3,4])}\n",
    "var3=pd.DataFrame(sr)\n",
    "print(var3)"
   ]
  },
  {
   "cell_type": "code",
   "execution_count": null,
   "id": "541fe765-e716-4c80-946c-792b887d282f",
   "metadata": {},
   "outputs": [],
   "source": []
  }
 ],
 "metadata": {
  "kernelspec": {
   "display_name": "Python 3 (ipykernel)",
   "language": "python",
   "name": "python3"
  },
  "language_info": {
   "codemirror_mode": {
    "name": "ipython",
    "version": 3
   },
   "file_extension": ".py",
   "mimetype": "text/x-python",
   "name": "python",
   "nbconvert_exporter": "python",
   "pygments_lexer": "ipython3",
   "version": "3.12.6"
  }
 },
 "nbformat": 4,
 "nbformat_minor": 5
}
